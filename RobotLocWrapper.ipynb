{
 "cells": [
  {
   "cell_type": "markdown",
   "metadata": {},
   "source": [
    "### Python based viewer tool for \"Probabilistic Reasoning over time\", EDAP01 Artificial Intelligence\n",
    "This notebook has been provided to you by Alexander Dürr, teaching assistant on the course, spring term 2021. It is based on the ideas and structure of the original Java skeleton for this assignment, provided by Elin A. Topp. Contact us (elin_anna.topp at cs.lth.se) in case you need help!"
   ]
  },
  {
   "cell_type": "markdown",
   "metadata": {},
   "source": [
    "### Note: Installing and activating widgets for Jupyter Notebook\n",
    "To be able to display the visualization (dashboard,animations,etc.) you have to initially install the package  if you don't have it yet"
   ]
  },
  {
   "cell_type": "raw",
   "metadata": {},
   "source": [
    "pip install ipywidgets"
   ]
  },
  {
   "cell_type": "markdown",
   "metadata": {},
   "source": [
    "### Note: Use Jupyter Lab for programming, Jupyter Notebook for visualization (optional)\n",
    "This command only enables the extension for jupyter notebook and not in jupyter lab! You can edit from the comfort of jupyter lab though and when you feel like using the widgets just go to\n",
    "\n",
    "Menu bar > Help > Launch Classic Notebook"
   ]
  },
  {
   "cell_type": "raw",
   "metadata": {},
   "source": [
    "jupyter nbextension enable --py widgetsnbextension"
   ]
  },
  {
   "cell_type": "markdown",
   "metadata": {},
   "source": [
    "## Here we go... inspecting the models, option 1\n",
    "\n",
    "### Your main job will be in the file Filters.py and in the last cell of this notebook, this is only to understand the models\n",
    "\n",
    "In _models_, all the actually interesting stuff is located, and in _Filters_ you should write your own code. Note that the visualization (next cell on inspecting the models, option 2) assumes to have access to an object of type _Localizer_ which in turn expects the filtering / smoothing to happen in _Filters.HMM_Filters.filter(sensorR)_. This means that IF you want to make use of the visualisation in grid-view (below!) also for the actual tracking, you MUST implement the filtering in _Filters.HMM_Filter.filter(sensorR)_ (or make changes in _Localizer.Localizer.update()_)\n",
    "\n"
   ]
  },
  {
   "cell_type": "code",
   "execution_count": null,
   "metadata": {
    "scrolled": false
   },
   "outputs": [],
   "source": [
    "from models import *\n",
    "from view_control.Localizer import Localizer\n",
    "\n",
    "# Testing the models, e.g., for an 4x8 grid\n",
    "\n",
    "states = StateModel( 4, 8)\n",
    "loc = Localizer( states, 1)\n",
    "tMat = loc.get_transition_model()\n",
    "sVecs = loc.get_observation_model()\n",
    "tMat.plot_T()\n",
    "sVecs.plot_o_diags()\n",
    "print(sVecs.get_o_reading(0))\n",
    "print(sVecs.get_o_reading(None))\n",
    "\n",
    "print(loc.update())\n"
   ]
  },
  {
   "cell_type": "markdown",
   "metadata": {},
   "source": [
    "## Here we go again... inspecting the models, option 2\n",
    "\n",
    "### Your implementation job will still be in the file Filters.py, this is only to understand the models AND to get a glimpse of a tracking run (but it is slow)\n",
    "\n",
    "In _models_, all the actually interesting stuff is located, and in _Filters_ you should write your own code. Note that this visualization assumes to have access to an object of type Localizer which in turn expects the filtering / smoothing to happen in _Filters.HMM_Filters.filter()_. This means that IF you want to make use of the visualisation in grid-view also for the actual tracking, you MUST implement the filtering in Filters.HMM_Filter.filter() (or make respective changes in _Localizer.Localizer.update()_)\n",
    "\n",
    "### Your Task 1)\n",
    "#### Inspect the visualisation of the models by running the cell and experimenting with the GUI, in particular compare and explain the different versions of the sensor model (see more detailed instructions for the task and report)"
   ]
  },
  {
   "cell_type": "code",
   "execution_count": 1,
   "metadata": {
    "scrolled": false
   },
   "outputs": [
    {
     "data": {
      "application/vnd.jupyter.widget-view+json": {
       "model_id": "cb359d67e9e145618e6f6eae0c3ff12a",
       "version_major": 2,
       "version_minor": 0
      },
      "text/plain": [
       "VBox(children=(HBox(children=(IntSlider(value=4, description='Height', max=10, min=4), IntSlider(value=4, desc…"
      ]
     },
     "metadata": {},
     "output_type": "display_data"
    },
    {
     "name": "stdout",
     "output_type": "stream",
     "text": [
      "12 12 [ 0  3  6  9 12]\n",
      "Time Step: 2\n",
      "Observation Matrix (Ot): [[0.625 0.    0.    ... 0.    0.    0.   ]\n",
      " [0.    0.625 0.    ... 0.    0.    0.   ]\n",
      " [0.    0.    0.625 ... 0.    0.    0.   ]\n",
      " ...\n",
      " [0.    0.    0.    ... 0.625 0.    0.   ]\n",
      " [0.    0.    0.    ... 0.    0.625 0.   ]\n",
      " [0.    0.    0.    ... 0.    0.    0.625]]\n",
      "Forward Matrix (__f): [0.015625 0.015625 0.015625 0.015625 0.015625 0.015625 0.015625 0.015625\n",
      " 0.015625 0.015625 0.015625 0.015625 0.015625 0.015625 0.015625 0.015625\n",
      " 0.015625 0.015625 0.015625 0.015625 0.015625 0.015625 0.015625 0.015625\n",
      " 0.015625 0.015625 0.015625 0.015625 0.015625 0.015625 0.015625 0.015625\n",
      " 0.015625 0.015625 0.015625 0.015625 0.015625 0.015625 0.015625 0.015625\n",
      " 0.015625 0.015625 0.015625 0.015625 0.015625 0.015625 0.015625 0.015625\n",
      " 0.015625 0.015625 0.015625 0.015625 0.015625 0.015625 0.015625 0.015625\n",
      " 0.015625 0.015625 0.015625 0.015625 0.015625 0.015625 0.015625 0.015625]\n",
      "Backward Matrix (B): [[-2.44157099e+14  2.44157099e+14 -1.34837759e-10 ...  1.82777218e-10\n",
      "  -1.34961603e+14  1.50965537e+13]\n",
      " [ 5.69699897e+14 -5.69699897e+14  3.14621438e-10 ... -4.26480175e-10\n",
      "  -2.71495795e+14 -3.52252920e+13]\n",
      " [-5.55334341e+31  5.55334341e+31 -1.48789681e+07 ... -1.01226877e+07\n",
      "   2.89483912e+30 -3.92986429e+31]\n",
      " ...\n",
      " [-6.29843124e+23  6.29843124e+23  2.50539277e+07 ... -2.50539277e+07\n",
      "   3.92213615e+23 -3.92213615e+23]\n",
      " [ 0.00000000e+00  0.00000000e+00  0.00000000e+00 ...  0.00000000e+00\n",
      "   6.25000000e+06  0.00000000e+00]\n",
      " [ 0.00000000e+00  0.00000000e+00  0.00000000e+00 ...  0.00000000e+00\n",
      "   0.00000000e+00  6.25000000e+06]]\n",
      "Returning:  [0.015625 0.015625 0.015625 0.015625 0.015625 0.015625 0.015625 0.015625\n",
      " 0.015625 0.015625 0.015625 0.015625 0.015625 0.015625 0.015625 0.015625\n",
      " 0.015625 0.015625 0.015625 0.015625 0.015625 0.015625 0.015625 0.015625\n",
      " 0.015625 0.015625 0.015625 0.015625 0.015625 0.015625 0.015625 0.015625\n",
      " 0.015625 0.015625 0.015625 0.015625 0.015625 0.015625 0.015625 0.015625\n",
      " 0.015625 0.015625 0.015625 0.015625 0.015625 0.015625 0.015625 0.015625\n",
      " 0.015625 0.015625 0.015625 0.015625 0.015625 0.015625 0.015625 0.015625\n",
      " 0.015625 0.015625 0.015625 0.015625 0.015625 0.015625 0.015625 0.015625]\n",
      "12 12 [ 0  3  6  9 12]\n",
      "true pose = <2, 0, 0>, sensed nothing\n",
      "nbr of moves: 1, avg error: 2.0, nbr correct guesses: 0\n",
      "Time Step: 3\n",
      "Observation Matrix (Ot): [[0.025 0.    0.    ... 0.    0.    0.   ]\n",
      " [0.    0.025 0.    ... 0.    0.    0.   ]\n",
      " [0.    0.    0.025 ... 0.    0.    0.   ]\n",
      " ...\n",
      " [0.    0.    0.    ... 0.05  0.    0.   ]\n",
      " [0.    0.    0.    ... 0.    0.05  0.   ]\n",
      " [0.    0.    0.    ... 0.    0.    0.05 ]]\n",
      "Forward Matrix (__f): [0.015625 0.015625 0.015625 0.015625 0.015625 0.015625 0.015625 0.015625\n",
      " 0.015625 0.015625 0.015625 0.015625 0.015625 0.015625 0.015625 0.015625\n",
      " 0.015625 0.015625 0.015625 0.015625 0.015625 0.015625 0.015625 0.015625\n",
      " 0.015625 0.015625 0.015625 0.015625 0.015625 0.015625 0.015625 0.015625\n",
      " 0.015625 0.015625 0.015625 0.015625 0.015625 0.015625 0.015625 0.015625\n",
      " 0.015625 0.015625 0.015625 0.015625 0.015625 0.015625 0.015625 0.015625\n",
      " 0.015625 0.015625 0.015625 0.015625 0.015625 0.015625 0.015625 0.015625\n",
      " 0.015625 0.015625 0.015625 0.015625 0.015625 0.015625 0.015625 0.015625]\n",
      "Backward Matrix (B): [[ 2.53617431e+29 -2.53617431e+29  7.67873675e+04 ...  9.78071910e+04\n",
      "  -2.82792709e+28  3.46716140e+29]\n",
      " [ 1.14056648e+29 -1.14056648e+29  8.93789098e+04 ...  2.91021810e+04\n",
      "  -7.60191834e+27  1.89968192e+29]\n",
      " [-1.04369787e+45  1.04369787e+45 -1.80854543e+21 ... -1.72501994e+21\n",
      "  -3.09286821e+44 -4.25940248e+45]\n",
      " ...\n",
      " [-6.85410675e+37  6.85410675e+37 -1.34118999e+14 ...  1.29897236e+14\n",
      "   2.40385244e+36 -1.28562506e+38]\n",
      " [ 0.00000000e+00  0.00000000e+00  0.00000000e+00 ...  0.00000000e+00\n",
      "   3.12500000e+12  0.00000000e+00]\n",
      " [ 0.00000000e+00  0.00000000e+00  0.00000000e+00 ...  0.00000000e+00\n",
      "   0.00000000e+00  3.12500000e+12]]\n",
      "Returning:  [0.015625 0.015625 0.015625 0.015625 0.015625 0.015625 0.015625 0.015625\n",
      " 0.015625 0.015625 0.015625 0.015625 0.015625 0.015625 0.015625 0.015625\n",
      " 0.015625 0.015625 0.015625 0.015625 0.015625 0.015625 0.015625 0.015625\n",
      " 0.015625 0.015625 0.015625 0.015625 0.015625 0.015625 0.015625 0.015625\n",
      " 0.015625 0.015625 0.015625 0.015625 0.015625 0.015625 0.015625 0.015625\n",
      " 0.015625 0.015625 0.015625 0.015625 0.015625 0.015625 0.015625 0.015625\n",
      " 0.015625 0.015625 0.015625 0.015625 0.015625 0.015625 0.015625 0.015625\n",
      " 0.015625 0.015625 0.015625 0.015625 0.015625 0.015625 0.015625 0.015625]\n",
      "12 12 [ 0  3  6  9 12]\n",
      "true pose = <3, 0, 0>, sensed position = <2, 2>, guessed position = <0, 0>\n",
      "nbr of moves: 2, avg error: 2.5, nbr correct guesses: 0\n",
      "Time Step: 4\n",
      "Observation Matrix (Ot): [[0.05 0.   0.   ... 0.   0.   0.  ]\n",
      " [0.   0.05 0.   ... 0.   0.   0.  ]\n",
      " [0.   0.   0.05 ... 0.   0.   0.  ]\n",
      " ...\n",
      " [0.   0.   0.   ... 0.   0.   0.  ]\n",
      " [0.   0.   0.   ... 0.   0.   0.  ]\n",
      " [0.   0.   0.   ... 0.   0.   0.  ]]\n",
      "Forward Matrix (__f): [0.015625 0.015625 0.015625 0.015625 0.015625 0.015625 0.015625 0.015625\n",
      " 0.015625 0.015625 0.015625 0.015625 0.015625 0.015625 0.015625 0.015625\n",
      " 0.015625 0.015625 0.015625 0.015625 0.015625 0.015625 0.015625 0.015625\n",
      " 0.015625 0.015625 0.015625 0.015625 0.015625 0.015625 0.015625 0.015625\n",
      " 0.015625 0.015625 0.015625 0.015625 0.015625 0.015625 0.015625 0.015625\n",
      " 0.015625 0.015625 0.015625 0.015625 0.015625 0.015625 0.015625 0.015625\n",
      " 0.015625 0.015625 0.015625 0.015625 0.015625 0.015625 0.015625 0.015625\n",
      " 0.015625 0.015625 0.015625 0.015625 0.015625 0.015625 0.015625 0.015625]\n",
      "Backward Matrix (B): [[ 1.22634802e+43 -1.22634802e+43  2.21937635e+19 ...  0.00000000e+00\n",
      "   0.00000000e+00  0.00000000e+00]\n",
      " [ 1.60376503e+43 -1.60376503e+43  1.17314169e+19 ...  0.00000000e+00\n",
      "   0.00000000e+00  0.00000000e+00]\n",
      " [-9.25997591e+59  9.25997591e+59 -2.36979500e+35 ...  0.00000000e+00\n",
      "   0.00000000e+00  0.00000000e+00]\n",
      " ...\n",
      " [-1.40895869e+52  1.40895869e+52 -7.79045132e+27 ...  0.00000000e+00\n",
      "   0.00000000e+00  0.00000000e+00]\n",
      " [ 0.00000000e+00  0.00000000e+00  0.00000000e+00 ...  0.00000000e+00\n",
      "   0.00000000e+00  0.00000000e+00]\n",
      " [ 0.00000000e+00  0.00000000e+00  0.00000000e+00 ...  0.00000000e+00\n",
      "   0.00000000e+00  0.00000000e+00]]\n",
      "Returning:  [0.015625 0.015625 0.015625 0.015625 0.015625 0.015625 0.015625 0.015625\n",
      " 0.015625 0.015625 0.015625 0.015625 0.015625 0.015625 0.015625 0.015625\n",
      " 0.015625 0.015625 0.015625 0.015625 0.015625 0.015625 0.015625 0.015625\n",
      " 0.015625 0.015625 0.015625 0.015625 0.015625 0.015625 0.015625 0.015625\n",
      " 0.015625 0.015625 0.015625 0.015625 0.015625 0.015625 0.015625 0.015625\n",
      " 0.015625 0.015625 0.015625 0.015625 0.015625 0.015625 0.015625 0.015625\n",
      " 0.015625 0.015625 0.015625 0.015625 0.015625 0.015625 0.015625 0.015625\n",
      " 0.015625 0.015625 0.015625 0.015625 0.015625 0.015625 0.015625 0.015625]\n",
      "12 12 [ 0  3  6  9 12]\n",
      "true pose = <3, 1, 1>, sensed position = <1, 0>, guessed position = <0, 0>\n",
      "nbr of moves: 3, avg error: 3.0, nbr correct guesses: 0\n",
      "Time Step: 5\n",
      "Observation Matrix (Ot): [[0.625 0.    0.    ... 0.    0.    0.   ]\n",
      " [0.    0.625 0.    ... 0.    0.    0.   ]\n",
      " [0.    0.    0.625 ... 0.    0.    0.   ]\n",
      " ...\n",
      " [0.    0.    0.    ... 0.625 0.    0.   ]\n",
      " [0.    0.    0.    ... 0.    0.625 0.   ]\n",
      " [0.    0.    0.    ... 0.    0.    0.625]]\n",
      "Forward Matrix (__f): [0.015625 0.015625 0.015625 0.015625 0.015625 0.015625 0.015625 0.015625\n",
      " 0.015625 0.015625 0.015625 0.015625 0.015625 0.015625 0.015625 0.015625\n",
      " 0.015625 0.015625 0.015625 0.015625 0.015625 0.015625 0.015625 0.015625\n",
      " 0.015625 0.015625 0.015625 0.015625 0.015625 0.015625 0.015625 0.015625\n",
      " 0.015625 0.015625 0.015625 0.015625 0.015625 0.015625 0.015625 0.015625\n",
      " 0.015625 0.015625 0.015625 0.015625 0.015625 0.015625 0.015625 0.015625\n",
      " 0.015625 0.015625 0.015625 0.015625 0.015625 0.015625 0.015625 0.015625\n",
      " 0.015625 0.015625 0.015625 0.015625 0.015625 0.015625 0.015625 0.015625]\n",
      "Backward Matrix (B): [[ 2.25747584e+59 -2.25747584e+59  7.78586475e+34 ...  5.19811646e+34\n",
      "  -1.06136281e+58  1.67431987e+59]\n",
      " [ 1.26728841e+59 -1.26728841e+59  4.73774820e+34 ...  3.33430908e+34\n",
      "  -5.09680697e+57  9.97242337e+58]\n",
      " [-3.02626363e+75  3.02626363e+75 -1.34907057e+51 ... -1.04315282e+51\n",
      "   7.06074041e+73 -2.72146715e+75]\n",
      " ...\n",
      " [-8.68205166e+67  8.68205166e+67 -3.37015657e+43 ... -2.42537061e+43\n",
      "   3.19980277e+66 -7.02628330e+67]\n",
      " [ 0.00000000e+00  0.00000000e+00  0.00000000e+00 ...  0.00000000e+00\n",
      "   0.00000000e+00  0.00000000e+00]\n",
      " [ 0.00000000e+00  0.00000000e+00  0.00000000e+00 ...  0.00000000e+00\n",
      "   0.00000000e+00  0.00000000e+00]]\n",
      "Returning:  [0.015625 0.015625 0.015625 0.015625 0.015625 0.015625 0.015625 0.015625\n",
      " 0.015625 0.015625 0.015625 0.015625 0.015625 0.015625 0.015625 0.015625\n",
      " 0.015625 0.015625 0.015625 0.015625 0.015625 0.015625 0.015625 0.015625\n",
      " 0.015625 0.015625 0.015625 0.015625 0.015625 0.015625 0.015625 0.015625\n",
      " 0.015625 0.015625 0.015625 0.015625 0.015625 0.015625 0.015625 0.015625\n",
      " 0.015625 0.015625 0.015625 0.015625 0.015625 0.015625 0.015625 0.015625\n",
      " 0.015625 0.015625 0.015625 0.015625 0.015625 0.015625 0.015625 0.015625\n",
      " 0.015625 0.015625 0.015625 0.015625 0.015625 0.015625 0.015625 0.015625]\n",
      "12 12 [ 0  3  6  9 12]\n"
     ]
    },
    {
     "name": "stdout",
     "output_type": "stream",
     "text": [
      "true pose = <3, 2, 1>, sensed nothing\n",
      "nbr of moves: 4, avg error: 3.5, nbr correct guesses: 0\n",
      "Time Step: 6\n",
      "Observation Matrix (Ot): [[0.625 0.    0.    ... 0.    0.    0.   ]\n",
      " [0.    0.625 0.    ... 0.    0.    0.   ]\n",
      " [0.    0.    0.625 ... 0.    0.    0.   ]\n",
      " ...\n",
      " [0.    0.    0.    ... 0.625 0.    0.   ]\n",
      " [0.    0.    0.    ... 0.    0.625 0.   ]\n",
      " [0.    0.    0.    ... 0.    0.    0.625]]\n",
      "Forward Matrix (__f): [0.015625 0.015625 0.015625 0.015625 0.015625 0.015625 0.015625 0.015625\n",
      " 0.015625 0.015625 0.015625 0.015625 0.015625 0.015625 0.015625 0.015625\n",
      " 0.015625 0.015625 0.015625 0.015625 0.015625 0.015625 0.015625 0.015625\n",
      " 0.015625 0.015625 0.015625 0.015625 0.015625 0.015625 0.015625 0.015625\n",
      " 0.015625 0.015625 0.015625 0.015625 0.015625 0.015625 0.015625 0.015625\n",
      " 0.015625 0.015625 0.015625 0.015625 0.015625 0.015625 0.015625 0.015625\n",
      " 0.015625 0.015625 0.015625 0.015625 0.015625 0.015625 0.015625 0.015625\n",
      " 0.015625 0.015625 0.015625 0.015625 0.015625 0.015625 0.015625 0.015625]\n",
      "Backward Matrix (B): [[ 1.53544729e+74 -1.53544729e+74  1.88062417e+50 ...  1.02061587e+50\n",
      "   1.32410539e+73  2.50032318e+74]\n",
      " [ 1.21632026e+74 -1.21632026e+74  1.08757132e+50 ...  6.80481531e+49\n",
      "   5.58598136e+72  1.65438203e+74]\n",
      " [-5.00681078e+90  5.00681078e+90 -2.78598082e+66 ... -2.26293089e+66\n",
      "  -2.38060639e+88 -5.43831525e+90]\n",
      " ...\n",
      " [-9.53393010e+82  9.53393010e+82 -7.55873945e+58 ... -5.02637605e+58\n",
      "  -3.20080893e+81 -1.21839228e+83]\n",
      " [ 0.00000000e+00  0.00000000e+00  0.00000000e+00 ...  0.00000000e+00\n",
      "   0.00000000e+00  0.00000000e+00]\n",
      " [ 0.00000000e+00  0.00000000e+00  0.00000000e+00 ...  0.00000000e+00\n",
      "   0.00000000e+00  0.00000000e+00]]\n",
      "Result before normalization: -1.748902524276729e+73\n",
      "Normalized Result: 1.0\n",
      "Returning:  1.0\n"
     ]
    },
    {
     "ename": "IndexError",
     "evalue": "invalid index to scalar variable.",
     "output_type": "error",
     "traceback": [
      "\u001b[1;31m---------------------------------------------------------------------------\u001b[0m",
      "\u001b[1;31mIndexError\u001b[0m                                Traceback (most recent call last)",
      "File \u001b[1;32m~\\PycharmProjects\\handout2024\\view_control\\Dashboard.py:329\u001b[0m, in \u001b[0;36mDashboard.btn_os_eventhandler\u001b[1;34m(self, obj)\u001b[0m\n\u001b[0;32m    326\u001b[0m     thread \u001b[38;5;241m=\u001b[39m \u001b[38;5;28;01mNone\u001b[39;00m\n\u001b[0;32m    328\u001b[0m \u001b[38;5;28;01mif\u001b[39;00m \u001b[38;5;28mself\u001b[39m\u001b[38;5;241m.\u001b[39minitialised:\n\u001b[1;32m--> 329\u001b[0m     \u001b[38;5;28;43mself\u001b[39;49m\u001b[38;5;241;43m.\u001b[39;49m\u001b[43mupdate_grid_one_step\u001b[49m\u001b[43m(\u001b[49m\u001b[38;5;28;43;01mTrue\u001b[39;49;00m\u001b[43m)\u001b[49m\n\u001b[0;32m    330\u001b[0m     stop_thread \u001b[38;5;241m=\u001b[39m \u001b[38;5;28;01mFalse\u001b[39;00m\n\u001b[0;32m    331\u001b[0m \u001b[38;5;28;01melse\u001b[39;00m:\n",
      "File \u001b[1;32m~\\PycharmProjects\\handout2024\\view_control\\Dashboard.py:382\u001b[0m, in \u001b[0;36mDashboard.update_grid_one_step\u001b[1;34m(self, plotting)\u001b[0m\n\u001b[0;32m    379\u001b[0m mutex\u001b[38;5;241m.\u001b[39macquire()\n\u001b[0;32m    381\u001b[0m \u001b[38;5;28;01mtry\u001b[39;00m:\n\u001b[1;32m--> 382\u001b[0m     sensed, trueR, trueC, trueH, sensedR, sensedC, guessedR, guessedC, total_error, f \u001b[38;5;241m=\u001b[39m \u001b[38;5;28;43mself\u001b[39;49m\u001b[38;5;241;43m.\u001b[39;49m\u001b[43mmodel\u001b[49m\u001b[38;5;241;43m.\u001b[39;49m\u001b[43mupdate\u001b[49m\u001b[43m(\u001b[49m\u001b[43m)\u001b[49m\n\u001b[0;32m    385\u001b[0m     \u001b[38;5;28mself\u001b[39m\u001b[38;5;241m.\u001b[39mvisualizationroom[:] \u001b[38;5;241m=\u001b[39m np\u001b[38;5;241m.\u001b[39mNaN\n\u001b[0;32m    386\u001b[0m     \u001b[38;5;28;01mfor\u001b[39;00m state \u001b[38;5;129;01min\u001b[39;00m \u001b[38;5;28mrange\u001b[39m(\u001b[38;5;28mself\u001b[39m\u001b[38;5;241m.\u001b[39mnum_states):\n",
      "File \u001b[1;32m~\\PycharmProjects\\handout2024\\view_control\\Localizer.py:93\u001b[0m, in \u001b[0;36mLocalizer.update\u001b[1;34m(self)\u001b[0m\n\u001b[0;32m     90\u001b[0m fPositions \u001b[38;5;241m=\u001b[39m \u001b[38;5;28mself\u001b[39m\u001b[38;5;241m.\u001b[39m__probs\u001b[38;5;241m.\u001b[39mcopy()\n\u001b[0;32m     92\u001b[0m \u001b[38;5;28;01mfor\u001b[39;00m state \u001b[38;5;129;01min\u001b[39;00m \u001b[38;5;28mrange\u001b[39m(\u001b[38;5;241m0\u001b[39m, \u001b[38;5;28mself\u001b[39m\u001b[38;5;241m.\u001b[39m__sm\u001b[38;5;241m.\u001b[39mget_num_of_states(), \u001b[38;5;241m4\u001b[39m) :\n\u001b[1;32m---> 93\u001b[0m     fPositions[state:state\u001b[38;5;241m+\u001b[39m\u001b[38;5;241m4\u001b[39m] \u001b[38;5;241m=\u001b[39m \u001b[38;5;28msum\u001b[39m(\u001b[43mfPositions\u001b[49m\u001b[43m[\u001b[49m\u001b[43mstate\u001b[49m\u001b[43m:\u001b[49m\u001b[43mstate\u001b[49m\u001b[38;5;241;43m+\u001b[39;49m\u001b[38;5;241;43m4\u001b[39;49m\u001b[43m]\u001b[49m)\n\u001b[0;32m     95\u001b[0m \u001b[38;5;28mself\u001b[39m\u001b[38;5;241m.\u001b[39m__estimate \u001b[38;5;241m=\u001b[39m \u001b[38;5;28mself\u001b[39m\u001b[38;5;241m.\u001b[39m__sm\u001b[38;5;241m.\u001b[39mstate_to_position(np\u001b[38;5;241m.\u001b[39margmax(fPositions))\n\u001b[0;32m     97\u001b[0m ret \u001b[38;5;241m=\u001b[39m \u001b[38;5;28;01mFalse\u001b[39;00m  \u001b[38;5;66;03m# in case the sensor reading is \"nothing\" this is kept...\u001b[39;00m\n",
      "\u001b[1;31mIndexError\u001b[0m: invalid index to scalar variable."
     ]
    }
   ],
   "source": [
    "# In view_control.Dashboard, there is simply the handling of all the thread based visualisation provided, \n",
    "# no changes needed, but feel free...\n",
    "\n",
    "from view_control import *\n",
    "\n",
    "ROWS = 4\n",
    "COLS = 4\n",
    "\n",
    "# The dashboard creates a state model of the dimensions given by ROWS and COLS, sets up the respective \n",
    "# Transition and Observation models, as well as an instance of class Localizer. The Localizer calls at the \n",
    "# moment a stubb method toDo.Filters.HMMFilter.filter(sensorReading), which just sends back the original \n",
    "# probability distribution - no filtering is done. It is your task to implement something useful there.\n",
    "\n",
    "# Non-uniform failure is the default sensor, sensor 0. Change to 1 if that is your default \n",
    "# (uniform sensor failure)\n",
    "sensorType = 0\n",
    "dash = Dashboard(ROWS, COLS, sensorType)\n",
    "display(dash.db)\n"
   ]
  },
  {
   "cell_type": "markdown",
   "metadata": {},
   "source": [
    "## Write your own \"main\" here (without the viewer)\n",
    "\n",
    "### Your task 2)\n",
    "#### Implement both Forward Filtering and Fixed-lag FB Smoothing with k = t-5 (a sequence length of 5)\n",
    "#### Do evaluations (500 steps should be enough also for the bigger grids) according to the following, adapt the number of steps or the size of the grid if needed, but comment on it\n",
    "#### Provide plots of the Manhattan distance over time\n",
    "\n",
    "1)\n",
    "* Forward Filtering with non-uniform sensor failure on 8x8 grid against\n",
    "* Sensor output only (non-uniform sensor failure, count sensor failures to get the average frequency, but do not count those steps into the avg Manhattan distance) on 8x8 grid \n",
    "\n",
    "\n",
    "2)\n",
    "* Forward Filtering with non-uniform sensor failure on 4x4 grid against\n",
    "* Forward Filtering with uniform sensor failure on 4x4 grid\n",
    "\n",
    "\n",
    "3)\n",
    "* Forward Filtering with non-uniform sensor failure on 16x20 grid against\n",
    "* Forward Filtering with uniform sensor failure on 16x20 grid\n",
    "\n",
    "\n",
    "4)\n",
    "* Forward Filtering with non-uniform sensor failure on 10x10 grid against\n",
    "* Smoothing (fixed lag forward-backward smoothing) with k = t-5 (five steps for b) and non-uniform sensor failure on 10x10 grid\n",
    "\n",
    "#### OBS: obviously, each pair-wise evaluation should be run based on the same true trajectory (cases 1, 2, 3) or same trajectory AND same sensor reading sequence (for case 4)."
   ]
  },
  {
   "cell_type": "code",
   "execution_count": null,
   "metadata": {
    "scrolled": true
   },
   "outputs": [],
   "source": [
    "# In this cell, you can write your own \"main\" to run and evaluate your \n",
    "# implementation without using the visualisation above (should be considerably faster!)\n",
    "\n",
    "from models import *\n",
    "from Filters import HMMFilter\n",
    "\n",
    "import numpy as np\n",
    "import matplotlib.pyplot as plt\n",
    "import random\n",
    "\n",
    "# ...  "
   ]
  },
  {
   "cell_type": "code",
   "execution_count": null,
   "metadata": {},
   "outputs": [],
   "source": []
  }
 ],
 "metadata": {
  "kernelspec": {
   "display_name": "Python 3 (ipykernel)",
   "language": "python",
   "name": "python3"
  },
  "language_info": {
   "codemirror_mode": {
    "name": "ipython",
    "version": 3
   },
   "file_extension": ".py",
   "mimetype": "text/x-python",
   "name": "python",
   "nbconvert_exporter": "python",
   "pygments_lexer": "ipython3",
   "version": "3.10.12"
  }
 },
 "nbformat": 4,
 "nbformat_minor": 4
}
