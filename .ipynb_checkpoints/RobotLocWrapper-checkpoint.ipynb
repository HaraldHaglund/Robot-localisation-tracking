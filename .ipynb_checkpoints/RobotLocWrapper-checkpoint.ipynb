{
 "cells": [
  {
   "cell_type": "markdown",
   "metadata": {},
   "source": [
    "### Python based viewer tool for \"Probabilistic Reasoning over time\", EDAP01 Artificial Intelligence\n",
    "This notebook has been provided to you by Alexander Dürr, teaching assistant on the course, spring term 2021. It is based on the ideas and structure of the original Java skeleton for this assignment, provided by Elin A. Topp. Contact us (elin_anna.topp at cs.lth.se) in case you need help!"
   ]
  },
  {
   "cell_type": "markdown",
   "metadata": {},
   "source": [
    "### Note: Installing and activating widgets for Jupyter Notebook\n",
    "To be able to display the visualization (dashboard,animations,etc.) you have to initially install the package  if you don't have it yet"
   ]
  },
  {
   "cell_type": "raw",
   "metadata": {},
   "source": [
    "pip install ipywidgets"
   ]
  },
  {
   "cell_type": "markdown",
   "metadata": {},
   "source": [
    "### Note: Use Jupyter Lab for programming, Jupyter Notebook for visualization (optional)\n",
    "This command only enables the extension for jupyter notebook and not in jupyter lab! You can edit from the comfort of jupyter lab though and when you feel like using the widgets just go to\n",
    "\n",
    "Menu bar > Help > Launch Classic Notebook"
   ]
  },
  {
   "cell_type": "raw",
   "metadata": {},
   "source": [
    "jupyter nbextension enable --py widgetsnbextension"
   ]
  },
  {
   "cell_type": "markdown",
   "metadata": {},
   "source": [
    "## Here we go... inspecting the models, option 1\n",
    "\n",
    "### Your main job will be in the file Filters.py and in the last cell of this notebook, this is only to understand the models\n",
    "\n",
    "In _models_, all the actually interesting stuff is located, and in _Filters_ you should write your own code. Note that the visualization (next cell on inspecting the models, option 2) assumes to have access to an object of type _Localizer_ which in turn expects the filtering / smoothing to happen in _Filters.HMM_Filters.filter(sensorR)_. This means that IF you want to make use of the visualisation in grid-view (below!) also for the actual tracking, you MUST implement the filtering in _Filters.HMM_Filter.filter(sensorR)_ (or make changes in _Localizer.Localizer.update()_)\n",
    "\n"
   ]
  },
  {
   "cell_type": "code",
   "execution_count": null,
   "metadata": {
    "scrolled": false
   },
   "outputs": [],
   "source": [
    "from models import *\n",
    "from view_control.Localizer import Localizer\n",
    "\n",
    "# Testing the models, e.g., for an 4x8 grid\n",
    "\n",
    "states = StateModel( 4, 8)\n",
    "loc = Localizer( states, 1)\n",
    "tMat = loc.get_transition_model()\n",
    "sVecs = loc.get_observation_model()\n",
    "tMat.plot_T()\n",
    "sVecs.plot_o_diags()\n",
    "print(sVecs.get_o_reading(0))\n",
    "print(sVecs.get_o_reading(None))\n",
    "\n",
    "print(loc.update())\n"
   ]
  },
  {
   "cell_type": "markdown",
   "metadata": {},
   "source": [
    "## Here we go again... inspecting the models, option 2\n",
    "\n",
    "### Your implementation job will still be in the file Filters.py, this is only to understand the models AND to get a glimpse of a tracking run (but it is slow)\n",
    "\n",
    "In _models_, all the actually interesting stuff is located, and in _Filters_ you should write your own code. Note that this visualization assumes to have access to an object of type Localizer which in turn expects the filtering / smoothing to happen in _Filters.HMM_Filters.filter()_. This means that IF you want to make use of the visualisation in grid-view also for the actual tracking, you MUST implement the filtering in Filters.HMM_Filter.filter() (or make respective changes in _Localizer.Localizer.update()_)\n",
    "\n",
    "### Your Task 1)\n",
    "#### Inspect the visualisation of the models by running the cell and experimenting with the GUI, in particular compare and explain the different versions of the sensor model (see more detailed instructions for the task and report)"
   ]
  },
  {
   "cell_type": "code",
   "execution_count": null,
   "metadata": {
    "scrolled": false
   },
   "outputs": [],
   "source": [
    "# In view_control.Dashboard, there is simply the handling of all the thread based visualisation provided, \n",
    "# no changes needed, but feel free...\n",
    "\n",
    "from view_control import *\n",
    "\n",
    "ROWS = 4\n",
    "COLS = 4\n",
    "\n",
    "# The dashboard creates a state model of the dimensions given by ROWS and COLS, sets up the respective \n",
    "# Transition and Observation models, as well as an instance of class Localizer. The Localizer calls at the \n",
    "# moment a stubb method toDo.Filters.HMMFilter.filter(sensorReading), which just sends back the original \n",
    "# probability distribution - no filtering is done. It is your task to implement something useful there.\n",
    "\n",
    "# Non-uniform failure is the default sensor, sensor 0. Change to 1 if that is your default \n",
    "# (uniform sensor failure)\n",
    "sensorType = 0\n",
    "dash = Dashboard(ROWS, COLS, sensorType)\n",
    "display(dash.db)\n"
   ]
  },
  {
   "cell_type": "markdown",
   "metadata": {},
   "source": [
    "## Write your own \"main\" here (without the viewer)\n",
    "\n",
    "### Your task 2)\n",
    "#### Implement both Forward Filtering and Fixed-lag FB Smoothing with k = t-5 (a sequence length of 5)\n",
    "#### Do evaluations (500 steps should be enough also for the bigger grids) according to the following, adapt the number of steps or the size of the grid if needed, but comment on it\n",
    "#### Provide plots of the Manhattan distance over time\n",
    "\n",
    "1)\n",
    "* Forward Filtering with non-uniform sensor failure on 8x8 grid against\n",
    "* Sensor output only (non-uniform sensor failure, count sensor failures to get the average frequency, but do not count those steps into the avg Manhattan distance) on 8x8 grid \n",
    "\n",
    "\n",
    "2)\n",
    "* Forward Filtering with non-uniform sensor failure on 4x4 grid against\n",
    "* Forward Filtering with uniform sensor failure on 4x4 grid\n",
    "\n",
    "\n",
    "3)\n",
    "* Forward Filtering with non-uniform sensor failure on 16x20 grid against\n",
    "* Forward Filtering with uniform sensor failure on 16x20 grid\n",
    "\n",
    "\n",
    "4)\n",
    "* Forward Filtering with non-uniform sensor failure on 10x10 grid against\n",
    "* Smoothing (fixed lag forward-backward smoothing) with k = t-5 (five steps for b) and non-uniform sensor failure on 10x10 grid\n",
    "\n",
    "#### OBS: obviously, each pair-wise evaluation should be run based on the same true trajectory (cases 1, 2, 3) or same trajectory AND same sensor reading sequence (for case 4)."
   ]
  },
  {
   "cell_type": "markdown",
   "metadata": {},
   "source": [
    "TODO: Compare these results (for forward filtering) with what you would get\n",
    "without any filtering (pure guessing, or “filtering” based on the transition model and some random\n",
    "initial guess only), and with using the sensor reports only (base average Manhattan distance only on\n",
    "the steps when the sensor reports something, but count the “nothing” readings as a reference).\n",
    "\n",
    "TODO: Print everything against true results\n",
    "\n",
    "TODO: Fix none frequency bug"
   ]
  },
  {
   "cell_type": "markdown",
   "metadata": {},
   "source": [
    "## 1) Forward Filtering with non-uniform sensor failure on 8x8 grid against sensor output"
   ]
  },
  {
   "cell_type": "code",
   "execution_count": null,
   "metadata": {
    "scrolled": true
   },
   "outputs": [],
   "source": [
    "from models import *\n",
    "from Filters import HMMFilter\n",
    "\n",
    "import numpy as np\n",
    "import matplotlib.pyplot as plt\n",
    "import random\n",
    "\n",
    "#Declare constants\n",
    "rows = 8\n",
    "cols = 8\n",
    "uniformF = False\n",
    "iterations = 500"
   ]
  },
  {
   "cell_type": "code",
   "execution_count": null,
   "metadata": {},
   "outputs": [],
   "source": [
    "sm  = StateModel(rows, cols)\n",
    "tm = TransitionModel(sm)\n",
    "om = ObservationModel_UF.ObservationModelUF(sm) if uniformF else ObservationModel_NUF.ObservationModel(sm)\n",
    "\n",
    "trueInitialState = random.randint(0, sm.get_num_of_states() - 1)\n",
    "rs = RobotSim(trueInitialState,sm) #Initialize robot in random state\n",
    "\n",
    "probs = np.ones(sm.get_num_of_states()) / sm.get_num_of_states() #Uniform distrubution\n",
    "HMM = HMMFilter(probs,tm,om,sm)\n",
    "\n",
    "trueArray = []\n",
    "sensedArray = []\n",
    "estimatedArray= []\n",
    "for move in range(iterations):\n",
    "    trueState = rs.move_once(tm)\n",
    "    sense = rs.sense_in_current_state(om)\n",
    "    probs = HMM.filter(sense) # Call filter since we want forward filtering\n",
    "    fPositions = probs.copy()\n",
    "    for state in range(0, sm.get_num_of_states(), 4):\n",
    "        fPositions[state:state+4] = sum(fPositions[state:state+4])\n",
    "    \n",
    "    estimatedPosition = sm.state_to_position(np.argmax(fPositions)) #Our final \"guess\" \n",
    "    truePosition = sm.state_to_position(trueState)\n",
    "    sensePosition = sm.reading_to_position(sense) if sense != None else None\n",
    "    \n",
    "    sensedArray.append(sensePosition)\n",
    "    estimatedArray.append(estimatedPosition)\n",
    "    trueArray.append(truePosition)"
   ]
  },
  {
   "cell_type": "code",
   "execution_count": null,
   "metadata": {},
   "outputs": [],
   "source": [
    "cumulative_manhattan_distances = []\n",
    "for i in range(1, len(sensedArray) + 1):\n",
    "    manhattan_distances = []\n",
    "\n",
    "    for (sensed_point, true_point) in zip(sensedArray[:i], trueArray[:i]):\n",
    "        if sensed_point is not None:\n",
    "            x1, y1 = sensed_point\n",
    "            x2, y2 = true_point\n",
    "            manhattan_distances.append(abs(x1 - x2) + abs(y1 - y2))\n",
    "    # Check if there are any distances before calculating the average\n",
    "    if manhattan_distances:\n",
    "        average_distance = sum(manhattan_distances) / len(manhattan_distances)\n",
    "        cumulative_manhattan_distances.append(average_distance)\n",
    "\n",
    "plt.plot(cumulative_manhattan_distances, label='Sensor')\n",
    "\n",
    "\n",
    "cumulative_manhattan_distances = []\n",
    "for i in range(1, len(estimatedArray) + 1):\n",
    "    manhattan_distances = []\n",
    "    for (sensed_point, true_point) in zip(estimatedArray[:i], trueArray[:i]):\n",
    "            x1, y1 = sensed_point\n",
    "            x2, y2 = true_point\n",
    "            manhattan_distances.append(abs(x1 - x2) + abs(y1 - y2))\n",
    "    # Check if there are any distances before calculating the average\n",
    "    if manhattan_distances:\n",
    "        average_distance = sum(manhattan_distances) / len(manhattan_distances)\n",
    "        cumulative_manhattan_distances.append(average_distance)\n",
    "\n",
    "plt.plot(cumulative_manhattan_distances, label='Estimated')\n",
    "\n",
    "# Plotting\n",
    "plt.xlabel('Time steps')\n",
    "plt.ylabel('Average Manhattan Distance')\n",
    "plt.title('Sensor output and Forward Filtering Prediction')\n",
    "plt.legend()\n",
    "plt.show()\n",
    "\n",
    "# Calculate and print the average frequency of sensor failures\n",
    "average_failure_frequency = sensedArray.count(None) / len(sensedArray)\n",
    "print(\"Average sensor failure:\", average_failure_frequency, '%')"
   ]
  },
  {
   "cell_type": "markdown",
   "metadata": {},
   "source": [
    "## 2) Forward Filtering with non-uniform sensor failure on 4x4 grid against Forward Filtering with uniform sensor failure on 4x4 grid"
   ]
  },
  {
   "cell_type": "code",
   "execution_count": null,
   "metadata": {},
   "outputs": [],
   "source": [
    "from models import *\n",
    "from Filters import HMMFilter\n",
    "\n",
    "import numpy as np\n",
    "import matplotlib.pyplot as plt\n",
    "import random\n",
    "\n",
    "#Declare constants\n",
    "rows = 4\n",
    "cols = 4\n",
    "iterations = 500"
   ]
  },
  {
   "cell_type": "code",
   "execution_count": null,
   "metadata": {},
   "outputs": [],
   "source": [
    "sm  = StateModel(rows, cols)\n",
    "tm = TransitionModel(sm)\n",
    "omUF = ObservationModel_UF.ObservationModelUF(sm) \n",
    "omNUF= ObservationModel_NUF.ObservationModel(sm)\n",
    "\n",
    "trueInitialState = random.randint(0, sm.get_num_of_states() - 1)\n",
    "rs = RobotSim(trueInitialState,sm) #Initialize robot in random state\n",
    "\n",
    "probs = np.ones(sm.get_num_of_states()) / sm.get_num_of_states() #Uniform distrubution\n",
    "HMMUF = HMMFilter(probs,tm,omUF,sm)\n",
    "HMMNUF = HMMFilter(probs,tm,omNUF,sm)\n",
    "\n",
    "trueArray = []\n",
    "estimatedArrayUF = []\n",
    "estimatedArrayNUF = []\n",
    "for move in range(iterations):\n",
    "    trueState = rs.move_once(tm)\n",
    "    truePosition = sm.state_to_position(trueState)\n",
    "    trueArray.append(truePosition)\n",
    "\n",
    "    senseUF = rs.sense_in_current_state(omUF)\n",
    "    senseNUF = rs.sense_in_current_state(omNUF)\n",
    "    \n",
    "    probsUF = HMMUF.filter(senseUF) # Call filter since we want forward filtering\n",
    "    probsNUF = HMMNUF.filter(senseNUF) # Call filter since we want forward filtering\n",
    "    \n",
    "    fPositionsUF = probsUF.copy()\n",
    "    for state in range(0, sm.get_num_of_states(), 4):\n",
    "        fPositionsUF[state:state+4] = sum(fPositionsUF[state:state+4])\n",
    "    estimatedPositionUF = sm.state_to_position(np.argmax(fPositionsUF)) #Our final \"guess\" \n",
    "    estimatedArrayUF.append(estimatedPositionUF)\n",
    "    \n",
    "    fPositionsNUF = probsNUF.copy()\n",
    "    for state in range(0, sm.get_num_of_states(), 4):\n",
    "        fPositionsNUF[state:state+4] = sum(fPositionsNUF[state:state+4])\n",
    "    estimatedPositionNUF = sm.state_to_position(np.argmax(fPositionsNUF)) #Our final \"guess\" \n",
    "    estimatedArrayNUF.append(estimatedPositionNUF)"
   ]
  },
  {
   "cell_type": "code",
   "execution_count": null,
   "metadata": {},
   "outputs": [],
   "source": [
    "cumulative_manhattan_distances = []\n",
    "for i in range(1, len(estimatedArrayUF) + 1):\n",
    "    manhattan_distances = [abs(x1 - x2) + abs(y1 - y2) for (x1, y1), (x2, y2) in zip(estimatedArrayUF[:i], trueArray[:i])]\n",
    "    average_distance = sum(manhattan_distances) / len(manhattan_distances)\n",
    "    cumulative_manhattan_distances.append(average_distance)\n",
    "\n",
    "# Plotting\n",
    "plt.plot(cumulative_manhattan_distances, label='Uniform Failure')\n",
    "\n",
    "cumulative_manhattan_distances = []\n",
    "for i in range(1, len(estimatedArrayNUF) + 1):\n",
    "    manhattan_distances = [abs(x1 - x2) + abs(y1 - y2) for (x1, y1), (x2, y2) in zip(estimatedArrayNUF[:i], trueArray[:i])]\n",
    "    average_distance = sum(manhattan_distances) / len(manhattan_distances)\n",
    "    cumulative_manhattan_distances.append(average_distance)\n",
    "\n",
    "# Plotting\n",
    "plt.plot(cumulative_manhattan_distances, label='Non Uniform Failure')\n",
    "\n",
    "\n",
    "\n",
    "plt.xlabel('Time steps')\n",
    "plt.ylabel('Average Manhattan Distance')\n",
    "plt.title('Forward Filtering Prediction with uniform and non uniform sensor failure')\n",
    "plt.legend()\n",
    "plt.show()"
   ]
  },
  {
   "cell_type": "markdown",
   "metadata": {},
   "source": [
    "## 3) Forward Filtering with non-uniform sensor failure on 16x20 grid against Forward Filtering with uniform sensor failure on 16x20 grid"
   ]
  },
  {
   "cell_type": "code",
   "execution_count": null,
   "metadata": {},
   "outputs": [],
   "source": [
    "from models import *\n",
    "from Filters import HMMFilter\n",
    "\n",
    "import numpy as np\n",
    "import matplotlib.pyplot as plt\n",
    "import random\n",
    "\n",
    "#Declare constants\n",
    "rows = 16\n",
    "cols = 20\n",
    "iterations = 500"
   ]
  },
  {
   "cell_type": "code",
   "execution_count": null,
   "metadata": {},
   "outputs": [],
   "source": [
    "sm  = StateModel(rows, cols)\n",
    "tm = TransitionModel(sm)\n",
    "omUF = ObservationModel_UF.ObservationModelUF(sm) \n",
    "omNUF= ObservationModel_NUF.ObservationModel(sm)\n",
    "\n",
    "trueInitialState = random.randint(0, sm.get_num_of_states() - 1)\n",
    "rs = RobotSim(trueInitialState,sm) #Initialize robot in random state\n",
    "\n",
    "probs = np.ones(sm.get_num_of_states()) / sm.get_num_of_states() #Uniform distrubution\n",
    "HMMUF = HMMFilter(probs,tm,omUF,sm)\n",
    "HMMNUF = HMMFilter(probs,tm,omNUF,sm)\n",
    "\n",
    "trueArray = []\n",
    "estimatedArrayUF = []\n",
    "estimatedArrayNUF = []\n",
    "for move in range(iterations):\n",
    "    trueState = rs.move_once(tm)\n",
    "    truePosition = sm.state_to_position(trueState)\n",
    "    trueArray.append(truePosition)\n",
    "\n",
    "    senseUF = rs.sense_in_current_state(omUF)\n",
    "    senseNUF = rs.sense_in_current_state(omNUF)\n",
    "    \n",
    "    probsUF = HMMUF.filter(senseUF) # Call filter since we want forward filtering\n",
    "    probsNUF = HMMNUF.filter(senseNUF) # Call filter since we want forward filtering\n",
    "    \n",
    "    fPositionsUF = probsUF.copy()\n",
    "    for state in range(0, sm.get_num_of_states(), 4):\n",
    "        fPositionsUF[state:state+4] = sum(fPositionsUF[state:state+4])\n",
    "    estimatedPositionUF = sm.state_to_position(np.argmax(fPositionsUF)) #Our final \"guess\" \n",
    "    estimatedArrayUF.append(estimatedPositionUF)\n",
    "    \n",
    "    fPositionsNUF = probsNUF.copy()\n",
    "    for state in range(0, sm.get_num_of_states(), 4):\n",
    "        fPositionsNUF[state:state+4] = sum(fPositionsNUF[state:state+4])\n",
    "    estimatedPositionNUF = sm.state_to_position(np.argmax(fPositionsNUF)) #Our final \"guess\" \n",
    "    estimatedArrayNUF.append(estimatedPositionNUF)"
   ]
  },
  {
   "cell_type": "code",
   "execution_count": null,
   "metadata": {},
   "outputs": [],
   "source": [
    "cumulative_manhattan_distances = []\n",
    "for i in range(1, len(estimatedArrayUF) + 1):\n",
    "    manhattan_distances = [abs(x1 - x2) + abs(y1 - y2) for (x1, y1), (x2, y2) in zip(estimatedArrayUF[:i], trueArray[:i])]\n",
    "    average_distance = sum(manhattan_distances) / len(manhattan_distances)\n",
    "    cumulative_manhattan_distances.append(average_distance)\n",
    "\n",
    "# Plotting\n",
    "plt.plot(cumulative_manhattan_distances, label='Uniform Failure')\n",
    "\n",
    "cumulative_manhattan_distances = []\n",
    "for i in range(1, len(estimatedArrayNUF) + 1):\n",
    "    manhattan_distances = [abs(x1 - x2) + abs(y1 - y2) for (x1, y1), (x2, y2) in zip(estimatedArrayNUF[:i], trueArray[:i])]\n",
    "    average_distance = sum(manhattan_distances) / len(manhattan_distances)\n",
    "    cumulative_manhattan_distances.append(average_distance)\n",
    "\n",
    "# Plotting\n",
    "plt.plot(cumulative_manhattan_distances, label='Non Uniform Failure')\n",
    "\n",
    "\n",
    "\n",
    "plt.xlabel('Time steps')\n",
    "plt.ylabel('Average Manhattan Distance')\n",
    "plt.title('Forward Filtering Prediction with uniform and non uniform sensor failure')\n",
    "plt.legend()\n",
    "plt.show()"
   ]
  },
  {
   "cell_type": "markdown",
   "metadata": {},
   "source": [
    "## 4) Forward Filtering with non-uniform sensor failure on 10x10 grid against FB Smoothing with k = t-5 "
   ]
  },
  {
   "cell_type": "code",
   "execution_count": 4,
   "metadata": {},
   "outputs": [],
   "source": [
    "from models import *\n",
    "from Filters import HMMFilter\n",
    "\n",
    "import numpy as np\n",
    "import matplotlib.pyplot as plt\n",
    "import random\n",
    "\n",
    "#Declare constants\n",
    "rows = 10\n",
    "cols = 10\n",
    "iterations = 500\n",
    "lag = 5"
   ]
  },
  {
   "cell_type": "code",
   "execution_count": 5,
   "metadata": {},
   "outputs": [],
   "source": [
    "sm  = StateModel(rows, cols)\n",
    "tm = TransitionModel(sm)\n",
    "om = ObservationModel_NUF.ObservationModel(sm)\n",
    "\n",
    "trueInitialState = random.randint(0, sm.get_num_of_states() - 1)\n",
    "rs = RobotSim(trueInitialState,sm) #Initialize robot in random state\n",
    "\n",
    "probs = np.ones(sm.get_num_of_states()) / sm.get_num_of_states() #Uniform distrubution\n",
    "\n",
    "HMMFF = HMMFilter(probs,tm,om,sm)\n",
    "HMMSM = HMMFilter(probs,tm,om,sm)\n",
    "\n",
    "trueArray = []\n",
    "estimatedArrayFF = []\n",
    "estimatedArraySM = []\n",
    "for move in range(iterations):\n",
    "    trueState = rs.move_once(tm)\n",
    "    sense = rs.sense_in_current_state(om)\n",
    "    truePosition = sm.state_to_position(trueState)\n",
    "    trueArray.append(truePosition)\n",
    "    \n",
    "    fPositionsFF = HMMFF.filter(sense)\n",
    "    fPositionsSM = HMMSM.smoothing(sense)\n",
    "    for state in range(0, sm.get_num_of_states(), 4):\n",
    "        fPositionsFF[state:state+4] = sum(fPositionsFF[state:state+4])\n",
    "        fPositionsSM[state:state+4] = sum(fPositionsSM[state:state+4])\n",
    "        \n",
    "    estimatedPositionFF = sm.state_to_position(np.argmax(fPositionsFF)) #Our final \"guess\" \n",
    "    estimatedPositionSM = sm.state_to_position(np.argmax(fPositionsSM)) #Our final \"guess\" \n",
    "    estimatedArrayFF.append(estimatedPositionFF)\n",
    "    estimatedArraySM.append(estimatedPositionSM)\n",
    "\n",
    "#Slice the lists so they match \"in time\" (remove first 5 predictions from FB-Smoothing, and remove last 5 from FF and true states)\n",
    "estimatedArraySM = estimatedArraySM[lag:]\n",
    "estimatedArrayFF = estimatedArrayFF[:-lag]\n",
    "trueArray = trueArray[:-lag]"
   ]
  },
  {
   "cell_type": "code",
   "execution_count": 7,
   "metadata": {},
   "outputs": [
    {
     "data": {
      "image/png": "[encoded data removed]",
      "text/plain": [
       "<Figure size 640x480 with 1 Axes>"
      ]
     },
     "metadata": {},
     "output_type": "display_data"
    }
   ],
   "source": [
    "cumulative_manhattan_distances = []\n",
    "for i in range(1, len(estimatedArraySM) + 1):\n",
    "    manhattan_distances = [abs(x1 - x2) + abs(y1 - y2) for (x1, y1), (x2, y2) in zip(estimatedArraySM[:i], trueArray[:i])]\n",
    "    average_distance = sum(manhattan_distances) / len(manhattan_distances)\n",
    "    cumulative_manhattan_distances.append(average_distance)\n",
    "\n",
    "# Plotting\n",
    "plt.plot(cumulative_manhattan_distances, label='FB Smoothing')\n",
    "\n",
    "cumulative_manhattan_distances = []\n",
    "for i in range(1, len(estimatedArrayFF) + 1):\n",
    "    manhattan_distances = [abs(x1 - x2) + abs(y1 - y2) for (x1, y1), (x2, y2) in zip(estimatedArrayFF[:i], trueArray[:i])]\n",
    "    average_distance = sum(manhattan_distances) / len(manhattan_distances)\n",
    "    cumulative_manhattan_distances.append(average_distance)\n",
    "\n",
    "# Plotting\n",
    "plt.plot(cumulative_manhattan_distances, label='Forward Filtering')\n",
    "\n",
    "plt.xlabel('Time steps')\n",
    "plt.ylabel('Average Manhattan Distance')\n",
    "plt.title('Manhattan distance of Forward Filtering and FB-Smoothing')\n",
    "plt.legend()\n",
    "plt.show()"
   ]
  }
 ],
 "metadata": {
  "kernelspec": {
   "display_name": "Python 3 (ipykernel)",
   "language": "python",
   "name": "python3"
  },
  "language_info": {
   "codemirror_mode": {
    "name": "ipython",
    "version": 3
   },
   "file_extension": ".py",
   "mimetype": "text/x-python",
   "name": "python",
   "nbconvert_exporter": "python",
   "pygments_lexer": "ipython3",
   "version": "3.10.12"
  }
 },
 "nbformat": 4,
 "nbformat_minor": 4
}
