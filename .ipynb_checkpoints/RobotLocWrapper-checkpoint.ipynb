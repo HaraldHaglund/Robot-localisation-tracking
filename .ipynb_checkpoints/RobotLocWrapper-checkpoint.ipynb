{
 "cells": [
  {
   "cell_type": "markdown",
   "metadata": {},
   "source": [
    "### Python based viewer tool for \"Probabilistic Reasoning over time\", EDAP01 Artificial Intelligence\n",
    "This notebook has been provided to you by Alexander Dürr, teaching assistant on the course, spring term 2021. It is based on the ideas and structure of the original Java skeleton for this assignment, provided by Elin A. Topp. Contact us (elin_anna.topp at cs.lth.se) in case you need help!"
   ]
  },
  {
   "cell_type": "markdown",
   "metadata": {},
   "source": [
    "### Note: Installing and activating widgets for Jupyter Notebook\n",
    "To be able to display the visualization (dashboard,animations,etc.) you have to initially install the package  if you don't have it yet"
   ]
  },
  {
   "cell_type": "raw",
   "metadata": {},
   "source": [
    "pip install ipywidgets"
   ]
  },
  {
   "cell_type": "markdown",
   "metadata": {},
   "source": [
    "### Note: Use Jupyter Lab for programming, Jupyter Notebook for visualization (optional)\n",
    "This command only enables the extension for jupyter notebook and not in jupyter lab! You can edit from the comfort of jupyter lab though and when you feel like using the widgets just go to\n",
    "\n",
    "Menu bar > Help > Launch Classic Notebook"
   ]
  },
  {
   "cell_type": "raw",
   "metadata": {},
   "source": [
    "jupyter nbextension enable --py widgetsnbextension"
   ]
  },
  {
   "cell_type": "markdown",
   "metadata": {},
   "source": [
    "## Here we go... inspecting the models, option 1\n",
    "\n",
    "### Your main job will be in the file Filters.py and in the last cell of this notebook, this is only to understand the models\n",
    "\n",
    "In _models_, all the actually interesting stuff is located, and in _Filters_ you should write your own code. Note that the visualization (next cell on inspecting the models, option 2) assumes to have access to an object of type _Localizer_ which in turn expects the filtering / smoothing to happen in _Filters.HMM_Filters.filter(sensorR)_. This means that IF you want to make use of the visualisation in grid-view (below!) also for the actual tracking, you MUST implement the filtering in _Filters.HMM_Filter.filter(sensorR)_ (or make changes in _Localizer.Localizer.update()_)\n",
    "\n"
   ]
  },
  {
   "cell_type": "code",
   "execution_count": null,
   "metadata": {
    "scrolled": false
   },
   "outputs": [],
   "source": [
    "from models import *\n",
    "from view_control.Localizer import Localizer\n",
    "\n",
    "# Testing the models, e.g., for an 4x8 grid\n",
    "\n",
    "states = StateModel( 4, 8)\n",
    "loc = Localizer( states, 1)\n",
    "tMat = loc.get_transition_model()\n",
    "sVecs = loc.get_observation_model()\n",
    "tMat.plot_T()\n",
    "sVecs.plot_o_diags()\n",
    "print(sVecs.get_o_reading(0))\n",
    "print(sVecs.get_o_reading(None))\n",
    "\n",
    "print(loc.update())\n"
   ]
  },
  {
   "cell_type": "markdown",
   "metadata": {},
   "source": [
    "## Here we go again... inspecting the models, option 2\n",
    "\n",
    "### Your implementation job will still be in the file Filters.py, this is only to understand the models AND to get a glimpse of a tracking run (but it is slow)\n",
    "\n",
    "In _models_, all the actually interesting stuff is located, and in _Filters_ you should write your own code. Note that this visualization assumes to have access to an object of type Localizer which in turn expects the filtering / smoothing to happen in _Filters.HMM_Filters.filter()_. This means that IF you want to make use of the visualisation in grid-view also for the actual tracking, you MUST implement the filtering in Filters.HMM_Filter.filter() (or make respective changes in _Localizer.Localizer.update()_)\n",
    "\n",
    "### Your Task 1)\n",
    "#### Inspect the visualisation of the models by running the cell and experimenting with the GUI, in particular compare and explain the different versions of the sensor model (see more detailed instructions for the task and report)"
   ]
  },
  {
   "cell_type": "code",
   "execution_count": null,
   "metadata": {
    "scrolled": false
   },
   "outputs": [],
   "source": [
    "# In view_control.Dashboard, there is simply the handling of all the thread based visualisation provided, \n",
    "# no changes needed, but feel free...\n",
    "\n",
    "from view_control import *\n",
    "\n",
    "ROWS = 4\n",
    "COLS = 4\n",
    "\n",
    "# The dashboard creates a state model of the dimensions given by ROWS and COLS, sets up the respective \n",
    "# Transition and Observation models, as well as an instance of class Localizer. The Localizer calls at the \n",
    "# moment a stubb method toDo.Filters.HMMFilter.filter(sensorReading), which just sends back the original \n",
    "# probability distribution - no filtering is done. It is your task to implement something useful there.\n",
    "\n",
    "# Non-uniform failure is the default sensor, sensor 0. Change to 1 if that is your default \n",
    "# (uniform sensor failure)\n",
    "sensorType = 0\n",
    "dash = Dashboard(ROWS, COLS, sensorType)\n",
    "display(dash.db)\n"
   ]
  },
  {
   "cell_type": "markdown",
   "metadata": {},
   "source": [
    "## Write your own \"main\" here (without the viewer)\n",
    "\n",
    "### Your task 2)\n",
    "#### Implement both Forward Filtering and Fixed-lag FB Smoothing with k = t-5 (a sequence length of 5)\n",
    "#### Do evaluations (500 steps should be enough also for the bigger grids) according to the following, adapt the number of steps or the size of the grid if needed, but comment on it\n",
    "#### Provide plots of the Manhattan distance over time\n",
    "\n",
    "1)\n",
    "* Forward Filtering with non-uniform sensor failure on 8x8 grid against\n",
    "* Sensor output only (non-uniform sensor failure, count sensor failures to get the average frequency, but do not count those steps into the avg Manhattan distance) on 8x8 grid \n",
    "\n",
    "\n",
    "2)\n",
    "* Forward Filtering with non-uniform sensor failure on 4x4 grid against\n",
    "* Forward Filtering with uniform sensor failure on 4x4 grid\n",
    "\n",
    "\n",
    "3)\n",
    "* Forward Filtering with non-uniform sensor failure on 16x20 grid against\n",
    "* Forward Filtering with uniform sensor failure on 16x20 grid\n",
    "\n",
    "\n",
    "4)\n",
    "* Forward Filtering with non-uniform sensor failure on 10x10 grid against\n",
    "* Smoothing (fixed lag forward-backward smoothing) with k = t-5 (five steps for b) and non-uniform sensor failure on 10x10 grid\n",
    "\n",
    "#### OBS: obviously, each pair-wise evaluation should be run based on the same true trajectory (cases 1, 2, 3) or same trajectory AND same sensor reading sequence (for case 4)."
   ]
  },
  {
   "cell_type": "code",
   "execution_count": null,
   "metadata": {
    "scrolled": true
   },
   "outputs": [],
   "source": [
    "# In this cell, you can write your own \"main\" to run and evaluate your \n",
    "# implementation without using the visualisation above (should be considerably faster!)\n",
    "\n",
    "from models import *\n",
    "from Filters import HMMFilter\n",
    "\n",
    "import numpy as np\n",
    "import matplotlib.pyplot as plt\n",
    "import random\n",
    "\n",
    "# ...  "
   ]
  }
 ],
 "metadata": {
  "kernelspec": {
   "display_name": "Python 3 (ipykernel)",
   "language": "python",
   "name": "python3"
  },
  "language_info": {
   "codemirror_mode": {
    "name": "ipython",
    "version": 3
   },
   "file_extension": ".py",
   "mimetype": "text/x-python",
   "name": "python",
   "nbconvert_exporter": "python",
   "pygments_lexer": "ipython3",
   "version": "3.8.7"
  }
 },
 "nbformat": 4,
 "nbformat_minor": 4
}
